{
  "cells": [
    {
      "cell_type": "code",
      "execution_count": 1,
      "metadata": {
        "id": "IgDsyNWx0e4E"
      },
      "outputs": [
        {
          "ename": "ModuleNotFoundError",
          "evalue": "No module named 'statsmodels'",
          "output_type": "error",
          "traceback": [
            "\u001b[0;31m---------------------------------------------------------------------------\u001b[0m",
            "\u001b[0;31mModuleNotFoundError\u001b[0m                       Traceback (most recent call last)",
            "Cell \u001b[0;32mIn [1], line 6\u001b[0m\n\u001b[1;32m      4\u001b[0m \u001b[39mimport\u001b[39;00m \u001b[39mseaborn\u001b[39;00m \u001b[39mas\u001b[39;00m \u001b[39msns\u001b[39;00m\n\u001b[1;32m      5\u001b[0m \u001b[39mimport\u001b[39;00m \u001b[39mmatplotlib\u001b[39;00m\u001b[39m.\u001b[39;00m\u001b[39mpyplot\u001b[39;00m \u001b[39mas\u001b[39;00m \u001b[39mplt\u001b[39;00m\n\u001b[0;32m----> 6\u001b[0m \u001b[39mfrom\u001b[39;00m \u001b[39mstatsmodels\u001b[39;00m\u001b[39m.\u001b[39;00m\u001b[39mstats\u001b[39;00m\u001b[39m.\u001b[39;00m\u001b[39mpower\u001b[39;00m \u001b[39mimport\u001b[39;00m TTestIndPower\n",
            "\u001b[0;31mModuleNotFoundError\u001b[0m: No module named 'statsmodels'"
          ]
        }
      ],
      "source": [
        "import pandas as pd\n",
        "import numpy as np\n",
        "from scipy import stats\n",
        "import seaborn as sns\n",
        "import matplotlib.pyplot as plt\n",
        "from statsmodels.stats.power import TTestIndPower"
      ]
    },
    {
      "cell_type": "code",
      "execution_count": 3,
      "metadata": {
        "id": "Kju5wdXOyiAf"
      },
      "outputs": [],
      "source": [
        "#cindy\n",
        "rawData_path = 'anime cleaned.csv'\n",
        "#skye\n",
        "#rawData_path = '/content/drive/MyDrive/01 Capstone/cleaned_anime_221201_02.csv'"
      ]
    },
    {
      "cell_type": "code",
      "execution_count": 4,
      "metadata": {
        "colab": {
          "base_uri": "https://localhost:8080/"
        },
        "id": "P8EqEj-l0ZYJ",
        "outputId": "0f52996b-5acd-4b8a-b0d4-586866cadc29"
      },
      "outputs": [
        {
          "name": "stderr",
          "output_type": "stream",
          "text": [
            "/usr/local/lib/python3.8/dist-packages/IPython/core/interactiveshell.py:3326: DtypeWarning: Columns (7) have mixed types.Specify dtype option on import or set low_memory=False.\n",
            "  exec(code_obj, self.user_global_ns, self.user_ns)\n"
          ]
        }
      ],
      "source": [
        "df_data = pd.read_csv(rawData_path)"
      ]
    },
    {
      "cell_type": "code",
      "execution_count": 5,
      "metadata": {
        "colab": {
          "base_uri": "https://localhost:8080/",
          "height": 1000
        },
        "id": "03kxRNRFTmR4",
        "outputId": "0cda6c00-8b4c-4846-ed6c-d45e4a335e63"
      },
      "outputs": [
        {
          "data": {
            "text/html": [
              "\n",
              "  <div id=\"df-39b53989-dbd6-432c-b981-7b2a6e9aec0d\">\n",
              "    <div class=\"colab-df-container\">\n",
              "      <div>\n",
              "<style scoped>\n",
              "    .dataframe tbody tr th:only-of-type {\n",
              "        vertical-align: middle;\n",
              "    }\n",
              "\n",
              "    .dataframe tbody tr th {\n",
              "        vertical-align: top;\n",
              "    }\n",
              "\n",
              "    .dataframe thead th {\n",
              "        text-align: right;\n",
              "    }\n",
              "</style>\n",
              "<table border=\"1\" class=\"dataframe\">\n",
              "  <thead>\n",
              "    <tr style=\"text-align: right;\">\n",
              "      <th></th>\n",
              "      <th>MAL_ID</th>\n",
              "      <th>Name</th>\n",
              "      <th>Score</th>\n",
              "      <th>Genres</th>\n",
              "      <th>English name</th>\n",
              "      <th>Japanese name</th>\n",
              "      <th>Type</th>\n",
              "      <th>Episodes</th>\n",
              "      <th>Aired</th>\n",
              "      <th>Premiered</th>\n",
              "      <th>...</th>\n",
              "      <th>(ratings)PG-13 - Teens 13 or older</th>\n",
              "      <th>(ratings)R - 17+ (violence &amp; profanity)</th>\n",
              "      <th>(ratings)R+ - Mild Nudity</th>\n",
              "      <th>(ratings)Rx - Hentai</th>\n",
              "      <th>(ratings)Unknown</th>\n",
              "      <th>(episodes length)continue</th>\n",
              "      <th>(episodes length)extra_short</th>\n",
              "      <th>(episodes length)long</th>\n",
              "      <th>(episodes length)medium</th>\n",
              "      <th>(episodes length)short</th>\n",
              "    </tr>\n",
              "  </thead>\n",
              "  <tbody>\n",
              "    <tr>\n",
              "      <th>0</th>\n",
              "      <td>1</td>\n",
              "      <td>Cowboy Bebop</td>\n",
              "      <td>8.78</td>\n",
              "      <td>Action, Adventure, Comedy, Drama, Sci-Fi, Space</td>\n",
              "      <td>Cowboy Bebop</td>\n",
              "      <td>カウボーイビバップ</td>\n",
              "      <td>TV</td>\n",
              "      <td>26</td>\n",
              "      <td>Apr 3, 1998 to Apr 24, 1999</td>\n",
              "      <td>1998.0</td>\n",
              "      <td>...</td>\n",
              "      <td>0</td>\n",
              "      <td>1</td>\n",
              "      <td>0</td>\n",
              "      <td>0</td>\n",
              "      <td>0</td>\n",
              "      <td>0</td>\n",
              "      <td>0</td>\n",
              "      <td>0</td>\n",
              "      <td>0</td>\n",
              "      <td>1</td>\n",
              "    </tr>\n",
              "    <tr>\n",
              "      <th>1</th>\n",
              "      <td>5</td>\n",
              "      <td>Cowboy Bebop: Tengoku no Tobira</td>\n",
              "      <td>8.39</td>\n",
              "      <td>Action, Drama, Mystery, Sci-Fi, Space</td>\n",
              "      <td>Cowboy Bebop:The Movie</td>\n",
              "      <td>カウボーイビバップ 天国の扉</td>\n",
              "      <td>Movie</td>\n",
              "      <td>1</td>\n",
              "      <td>Sep 1, 2001</td>\n",
              "      <td>NaN</td>\n",
              "      <td>...</td>\n",
              "      <td>0</td>\n",
              "      <td>1</td>\n",
              "      <td>0</td>\n",
              "      <td>0</td>\n",
              "      <td>0</td>\n",
              "      <td>0</td>\n",
              "      <td>1</td>\n",
              "      <td>0</td>\n",
              "      <td>0</td>\n",
              "      <td>0</td>\n",
              "    </tr>\n",
              "    <tr>\n",
              "      <th>2</th>\n",
              "      <td>6</td>\n",
              "      <td>Trigun</td>\n",
              "      <td>8.24</td>\n",
              "      <td>Action, Sci-Fi, Adventure, Comedy, Drama, Shounen</td>\n",
              "      <td>Trigun</td>\n",
              "      <td>トライガン</td>\n",
              "      <td>TV</td>\n",
              "      <td>26</td>\n",
              "      <td>Apr 1, 1998 to Sep 30, 1998</td>\n",
              "      <td>1998.0</td>\n",
              "      <td>...</td>\n",
              "      <td>1</td>\n",
              "      <td>0</td>\n",
              "      <td>0</td>\n",
              "      <td>0</td>\n",
              "      <td>0</td>\n",
              "      <td>0</td>\n",
              "      <td>0</td>\n",
              "      <td>0</td>\n",
              "      <td>0</td>\n",
              "      <td>1</td>\n",
              "    </tr>\n",
              "    <tr>\n",
              "      <th>3</th>\n",
              "      <td>7</td>\n",
              "      <td>Witch Hunter Robin</td>\n",
              "      <td>7.27</td>\n",
              "      <td>Action, Mystery, Police, Supernatural, Drama, ...</td>\n",
              "      <td>Witch Hunter Robin</td>\n",
              "      <td>Witch Hunter ROBIN (ウイッチハンターロビン)</td>\n",
              "      <td>TV</td>\n",
              "      <td>26</td>\n",
              "      <td>Jul 2, 2002 to Dec 24, 2002</td>\n",
              "      <td>2002.0</td>\n",
              "      <td>...</td>\n",
              "      <td>1</td>\n",
              "      <td>0</td>\n",
              "      <td>0</td>\n",
              "      <td>0</td>\n",
              "      <td>0</td>\n",
              "      <td>0</td>\n",
              "      <td>0</td>\n",
              "      <td>0</td>\n",
              "      <td>0</td>\n",
              "      <td>1</td>\n",
              "    </tr>\n",
              "    <tr>\n",
              "      <th>4</th>\n",
              "      <td>8</td>\n",
              "      <td>Bouken Ou Beet</td>\n",
              "      <td>6.98</td>\n",
              "      <td>Adventure, Fantasy, Shounen, Supernatural</td>\n",
              "      <td>Beet the Vandel Buster</td>\n",
              "      <td>冒険王ビィト</td>\n",
              "      <td>TV</td>\n",
              "      <td>52</td>\n",
              "      <td>Sep 30, 2004 to Sep 29, 2005</td>\n",
              "      <td>2004.0</td>\n",
              "      <td>...</td>\n",
              "      <td>0</td>\n",
              "      <td>0</td>\n",
              "      <td>0</td>\n",
              "      <td>0</td>\n",
              "      <td>0</td>\n",
              "      <td>0</td>\n",
              "      <td>0</td>\n",
              "      <td>1</td>\n",
              "      <td>0</td>\n",
              "      <td>0</td>\n",
              "    </tr>\n",
              "    <tr>\n",
              "      <th>...</th>\n",
              "      <td>...</td>\n",
              "      <td>...</td>\n",
              "      <td>...</td>\n",
              "      <td>...</td>\n",
              "      <td>...</td>\n",
              "      <td>...</td>\n",
              "      <td>...</td>\n",
              "      <td>...</td>\n",
              "      <td>...</td>\n",
              "      <td>...</td>\n",
              "      <td>...</td>\n",
              "      <td>...</td>\n",
              "      <td>...</td>\n",
              "      <td>...</td>\n",
              "      <td>...</td>\n",
              "      <td>...</td>\n",
              "      <td>...</td>\n",
              "      <td>...</td>\n",
              "      <td>...</td>\n",
              "      <td>...</td>\n",
              "      <td>...</td>\n",
              "    </tr>\n",
              "    <tr>\n",
              "      <th>17557</th>\n",
              "      <td>48481</td>\n",
              "      <td>Daomu Biji Zhi Qinling Shen Shu</td>\n",
              "      <td>NaN</td>\n",
              "      <td>Adventure, Mystery, Supernatural</td>\n",
              "      <td>Unknown</td>\n",
              "      <td>盗墓笔记之秦岭神树</td>\n",
              "      <td>ONA</td>\n",
              "      <td>Unknown</td>\n",
              "      <td>Apr 4, 2021 to ?</td>\n",
              "      <td>NaN</td>\n",
              "      <td>...</td>\n",
              "      <td>0</td>\n",
              "      <td>0</td>\n",
              "      <td>0</td>\n",
              "      <td>0</td>\n",
              "      <td>1</td>\n",
              "      <td>1</td>\n",
              "      <td>0</td>\n",
              "      <td>0</td>\n",
              "      <td>0</td>\n",
              "      <td>0</td>\n",
              "    </tr>\n",
              "    <tr>\n",
              "      <th>17558</th>\n",
              "      <td>48483</td>\n",
              "      <td>Mieruko-chan</td>\n",
              "      <td>NaN</td>\n",
              "      <td>Comedy, Horror, Supernatural</td>\n",
              "      <td>Unknown</td>\n",
              "      <td>見える子ちゃん</td>\n",
              "      <td>TV</td>\n",
              "      <td>Unknown</td>\n",
              "      <td>2021 to ?</td>\n",
              "      <td>NaN</td>\n",
              "      <td>...</td>\n",
              "      <td>0</td>\n",
              "      <td>0</td>\n",
              "      <td>0</td>\n",
              "      <td>0</td>\n",
              "      <td>1</td>\n",
              "      <td>1</td>\n",
              "      <td>0</td>\n",
              "      <td>0</td>\n",
              "      <td>0</td>\n",
              "      <td>0</td>\n",
              "    </tr>\n",
              "    <tr>\n",
              "      <th>17559</th>\n",
              "      <td>48488</td>\n",
              "      <td>Higurashi no Naku Koro ni Sotsu</td>\n",
              "      <td>NaN</td>\n",
              "      <td>Mystery, Dementia, Horror, Psychological, Supe...</td>\n",
              "      <td>Higurashi:When They Cry – SOTSU</td>\n",
              "      <td>ひぐらしのなく頃に卒</td>\n",
              "      <td>TV</td>\n",
              "      <td>Unknown</td>\n",
              "      <td>Jul, 2021 to ?</td>\n",
              "      <td>2021.0</td>\n",
              "      <td>...</td>\n",
              "      <td>0</td>\n",
              "      <td>1</td>\n",
              "      <td>0</td>\n",
              "      <td>0</td>\n",
              "      <td>0</td>\n",
              "      <td>1</td>\n",
              "      <td>0</td>\n",
              "      <td>0</td>\n",
              "      <td>0</td>\n",
              "      <td>0</td>\n",
              "    </tr>\n",
              "    <tr>\n",
              "      <th>17560</th>\n",
              "      <td>48491</td>\n",
              "      <td>Yama no Susume: Next Summit</td>\n",
              "      <td>NaN</td>\n",
              "      <td>Adventure, Slice of Life, Comedy</td>\n",
              "      <td>Unknown</td>\n",
              "      <td>ヤマノススメ Next Summit</td>\n",
              "      <td>TV</td>\n",
              "      <td>Unknown</td>\n",
              "      <td>Unknown</td>\n",
              "      <td>NaN</td>\n",
              "      <td>...</td>\n",
              "      <td>1</td>\n",
              "      <td>0</td>\n",
              "      <td>0</td>\n",
              "      <td>0</td>\n",
              "      <td>0</td>\n",
              "      <td>1</td>\n",
              "      <td>0</td>\n",
              "      <td>0</td>\n",
              "      <td>0</td>\n",
              "      <td>0</td>\n",
              "    </tr>\n",
              "    <tr>\n",
              "      <th>17561</th>\n",
              "      <td>48492</td>\n",
              "      <td>Scarlet Nexus</td>\n",
              "      <td>NaN</td>\n",
              "      <td>Action, Fantasy</td>\n",
              "      <td>Unknown</td>\n",
              "      <td>SCARLET NEXUS</td>\n",
              "      <td>TV</td>\n",
              "      <td>Unknown</td>\n",
              "      <td>Jul, 2021 to ?</td>\n",
              "      <td>2021.0</td>\n",
              "      <td>...</td>\n",
              "      <td>0</td>\n",
              "      <td>0</td>\n",
              "      <td>0</td>\n",
              "      <td>0</td>\n",
              "      <td>1</td>\n",
              "      <td>1</td>\n",
              "      <td>0</td>\n",
              "      <td>0</td>\n",
              "      <td>0</td>\n",
              "      <td>0</td>\n",
              "    </tr>\n",
              "  </tbody>\n",
              "</table>\n",
              "<p>17562 rows × 2496 columns</p>\n",
              "</div>\n",
              "      <button class=\"colab-df-convert\" onclick=\"convertToInteractive('df-39b53989-dbd6-432c-b981-7b2a6e9aec0d')\"\n",
              "              title=\"Convert this dataframe to an interactive table.\"\n",
              "              style=\"display:none;\">\n",
              "        \n",
              "  <svg xmlns=\"http://www.w3.org/2000/svg\" height=\"24px\"viewBox=\"0 0 24 24\"\n",
              "       width=\"24px\">\n",
              "    <path d=\"M0 0h24v24H0V0z\" fill=\"none\"/>\n",
              "    <path d=\"M18.56 5.44l.94 2.06.94-2.06 2.06-.94-2.06-.94-.94-2.06-.94 2.06-2.06.94zm-11 1L8.5 8.5l.94-2.06 2.06-.94-2.06-.94L8.5 2.5l-.94 2.06-2.06.94zm10 10l.94 2.06.94-2.06 2.06-.94-2.06-.94-.94-2.06-.94 2.06-2.06.94z\"/><path d=\"M17.41 7.96l-1.37-1.37c-.4-.4-.92-.59-1.43-.59-.52 0-1.04.2-1.43.59L10.3 9.45l-7.72 7.72c-.78.78-.78 2.05 0 2.83L4 21.41c.39.39.9.59 1.41.59.51 0 1.02-.2 1.41-.59l7.78-7.78 2.81-2.81c.8-.78.8-2.07 0-2.86zM5.41 20L4 18.59l7.72-7.72 1.47 1.35L5.41 20z\"/>\n",
              "  </svg>\n",
              "      </button>\n",
              "      \n",
              "  <style>\n",
              "    .colab-df-container {\n",
              "      display:flex;\n",
              "      flex-wrap:wrap;\n",
              "      gap: 12px;\n",
              "    }\n",
              "\n",
              "    .colab-df-convert {\n",
              "      background-color: #E8F0FE;\n",
              "      border: none;\n",
              "      border-radius: 50%;\n",
              "      cursor: pointer;\n",
              "      display: none;\n",
              "      fill: #1967D2;\n",
              "      height: 32px;\n",
              "      padding: 0 0 0 0;\n",
              "      width: 32px;\n",
              "    }\n",
              "\n",
              "    .colab-df-convert:hover {\n",
              "      background-color: #E2EBFA;\n",
              "      box-shadow: 0px 1px 2px rgba(60, 64, 67, 0.3), 0px 1px 3px 1px rgba(60, 64, 67, 0.15);\n",
              "      fill: #174EA6;\n",
              "    }\n",
              "\n",
              "    [theme=dark] .colab-df-convert {\n",
              "      background-color: #3B4455;\n",
              "      fill: #D2E3FC;\n",
              "    }\n",
              "\n",
              "    [theme=dark] .colab-df-convert:hover {\n",
              "      background-color: #434B5C;\n",
              "      box-shadow: 0px 1px 3px 1px rgba(0, 0, 0, 0.15);\n",
              "      filter: drop-shadow(0px 1px 2px rgba(0, 0, 0, 0.3));\n",
              "      fill: #FFFFFF;\n",
              "    }\n",
              "  </style>\n",
              "\n",
              "      <script>\n",
              "        const buttonEl =\n",
              "          document.querySelector('#df-39b53989-dbd6-432c-b981-7b2a6e9aec0d button.colab-df-convert');\n",
              "        buttonEl.style.display =\n",
              "          google.colab.kernel.accessAllowed ? 'block' : 'none';\n",
              "\n",
              "        async function convertToInteractive(key) {\n",
              "          const element = document.querySelector('#df-39b53989-dbd6-432c-b981-7b2a6e9aec0d');\n",
              "          const dataTable =\n",
              "            await google.colab.kernel.invokeFunction('convertToInteractive',\n",
              "                                                     [key], {});\n",
              "          if (!dataTable) return;\n",
              "\n",
              "          const docLinkHtml = 'Like what you see? Visit the ' +\n",
              "            '<a target=\"_blank\" href=https://colab.research.google.com/notebooks/data_table.ipynb>data table notebook</a>'\n",
              "            + ' to learn more about interactive tables.';\n",
              "          element.innerHTML = '';\n",
              "          dataTable['output_type'] = 'display_data';\n",
              "          await google.colab.output.renderOutput(dataTable, element);\n",
              "          const docLink = document.createElement('div');\n",
              "          docLink.innerHTML = docLinkHtml;\n",
              "          element.appendChild(docLink);\n",
              "        }\n",
              "      </script>\n",
              "    </div>\n",
              "  </div>\n",
              "  "
            ],
            "text/plain": [
              "       MAL_ID                             Name  Score  \\\n",
              "0           1                     Cowboy Bebop   8.78   \n",
              "1           5  Cowboy Bebop: Tengoku no Tobira   8.39   \n",
              "2           6                           Trigun   8.24   \n",
              "3           7               Witch Hunter Robin   7.27   \n",
              "4           8                   Bouken Ou Beet   6.98   \n",
              "...       ...                              ...    ...   \n",
              "17557   48481  Daomu Biji Zhi Qinling Shen Shu    NaN   \n",
              "17558   48483                     Mieruko-chan    NaN   \n",
              "17559   48488  Higurashi no Naku Koro ni Sotsu    NaN   \n",
              "17560   48491      Yama no Susume: Next Summit    NaN   \n",
              "17561   48492                    Scarlet Nexus    NaN   \n",
              "\n",
              "                                                  Genres  \\\n",
              "0        Action, Adventure, Comedy, Drama, Sci-Fi, Space   \n",
              "1                  Action, Drama, Mystery, Sci-Fi, Space   \n",
              "2      Action, Sci-Fi, Adventure, Comedy, Drama, Shounen   \n",
              "3      Action, Mystery, Police, Supernatural, Drama, ...   \n",
              "4              Adventure, Fantasy, Shounen, Supernatural   \n",
              "...                                                  ...   \n",
              "17557                   Adventure, Mystery, Supernatural   \n",
              "17558                       Comedy, Horror, Supernatural   \n",
              "17559  Mystery, Dementia, Horror, Psychological, Supe...   \n",
              "17560                   Adventure, Slice of Life, Comedy   \n",
              "17561                                    Action, Fantasy   \n",
              "\n",
              "                          English name                     Japanese name  \\\n",
              "0                         Cowboy Bebop                         カウボーイビバップ   \n",
              "1               Cowboy Bebop:The Movie                    カウボーイビバップ 天国の扉   \n",
              "2                               Trigun                             トライガン   \n",
              "3                   Witch Hunter Robin  Witch Hunter ROBIN (ウイッチハンターロビン)   \n",
              "4               Beet the Vandel Buster                            冒険王ビィト   \n",
              "...                                ...                               ...   \n",
              "17557                          Unknown                         盗墓笔记之秦岭神树   \n",
              "17558                          Unknown                           見える子ちゃん   \n",
              "17559  Higurashi:When They Cry – SOTSU                        ひぐらしのなく頃に卒   \n",
              "17560                          Unknown                ヤマノススメ Next Summit   \n",
              "17561                          Unknown                     SCARLET NEXUS   \n",
              "\n",
              "        Type Episodes                         Aired  Premiered  ...  \\\n",
              "0         TV       26   Apr 3, 1998 to Apr 24, 1999     1998.0  ...   \n",
              "1      Movie        1                   Sep 1, 2001        NaN  ...   \n",
              "2         TV       26   Apr 1, 1998 to Sep 30, 1998     1998.0  ...   \n",
              "3         TV       26   Jul 2, 2002 to Dec 24, 2002     2002.0  ...   \n",
              "4         TV       52  Sep 30, 2004 to Sep 29, 2005     2004.0  ...   \n",
              "...      ...      ...                           ...        ...  ...   \n",
              "17557    ONA  Unknown              Apr 4, 2021 to ?        NaN  ...   \n",
              "17558     TV  Unknown                     2021 to ?        NaN  ...   \n",
              "17559     TV  Unknown                Jul, 2021 to ?     2021.0  ...   \n",
              "17560     TV  Unknown                       Unknown        NaN  ...   \n",
              "17561     TV  Unknown                Jul, 2021 to ?     2021.0  ...   \n",
              "\n",
              "      (ratings)PG-13 - Teens 13 or older  \\\n",
              "0                                      0   \n",
              "1                                      0   \n",
              "2                                      1   \n",
              "3                                      1   \n",
              "4                                      0   \n",
              "...                                  ...   \n",
              "17557                                  0   \n",
              "17558                                  0   \n",
              "17559                                  0   \n",
              "17560                                  1   \n",
              "17561                                  0   \n",
              "\n",
              "      (ratings)R - 17+ (violence & profanity) (ratings)R+ - Mild Nudity  \\\n",
              "0                                           1                         0   \n",
              "1                                           1                         0   \n",
              "2                                           0                         0   \n",
              "3                                           0                         0   \n",
              "4                                           0                         0   \n",
              "...                                       ...                       ...   \n",
              "17557                                       0                         0   \n",
              "17558                                       0                         0   \n",
              "17559                                       1                         0   \n",
              "17560                                       0                         0   \n",
              "17561                                       0                         0   \n",
              "\n",
              "      (ratings)Rx - Hentai (ratings)Unknown (episodes length)continue  \\\n",
              "0                        0                0                         0   \n",
              "1                        0                0                         0   \n",
              "2                        0                0                         0   \n",
              "3                        0                0                         0   \n",
              "4                        0                0                         0   \n",
              "...                    ...              ...                       ...   \n",
              "17557                    0                1                         1   \n",
              "17558                    0                1                         1   \n",
              "17559                    0                0                         1   \n",
              "17560                    0                0                         1   \n",
              "17561                    0                1                         1   \n",
              "\n",
              "      (episodes length)extra_short  (episodes length)long  \\\n",
              "0                                0                      0   \n",
              "1                                1                      0   \n",
              "2                                0                      0   \n",
              "3                                0                      0   \n",
              "4                                0                      1   \n",
              "...                            ...                    ...   \n",
              "17557                            0                      0   \n",
              "17558                            0                      0   \n",
              "17559                            0                      0   \n",
              "17560                            0                      0   \n",
              "17561                            0                      0   \n",
              "\n",
              "       (episodes length)medium  (episodes length)short  \n",
              "0                            0                       1  \n",
              "1                            0                       0  \n",
              "2                            0                       1  \n",
              "3                            0                       1  \n",
              "4                            0                       0  \n",
              "...                        ...                     ...  \n",
              "17557                        0                       0  \n",
              "17558                        0                       0  \n",
              "17559                        0                       0  \n",
              "17560                        0                       0  \n",
              "17561                        0                       0  \n",
              "\n",
              "[17562 rows x 2496 columns]"
            ]
          },
          "execution_count": 5,
          "metadata": {},
          "output_type": "execute_result"
        }
      ],
      "source": [
        "df_data"
      ]
    },
    {
      "cell_type": "code",
      "execution_count": 6,
      "metadata": {
        "colab": {
          "base_uri": "https://localhost:8080/",
          "height": 279
        },
        "id": "1s2LbkHHU-J2",
        "outputId": "3912f839-41c9-4ef6-be16-526426d4cde0"
      },
      "outputs": [
        {
          "data": {
            "image/png": "[encoded data removed]",
            "text/plain": [
              "<Figure size 432x288 with 1 Axes>"
            ]
          },
          "metadata": {
            "needs_background": "light"
          },
          "output_type": "display_data"
        }
      ],
      "source": [
        "sns.histplot(data=df_data[df_data['Score'] != 'Unknown']['Score']);"
      ]
    },
    {
      "cell_type": "markdown",
      "metadata": {
        "id": "ti1mCJKglso5"
      },
      "source": [
        "we can "
      ]
    },
    {
      "cell_type": "markdown",
      "metadata": {
        "id": "34OuxmLjRn-B"
      },
      "source": [
        "# 1. Do newer anime have higher scores than older animes?\n",
        "\n",
        "Null: Newer animes are **not scored higher** than older animes\n",
        "\n",
        "Alt: Newer animes **are scored higher** than older animes\n",
        "\n",
        "T-Test:\n",
        "- Normalized score data\n",
        "- reasonable to reduce to sample mean\n",
        "\n",
        "Spliting the premiered year by median to define newer and older animes"
      ]
    },
    {
      "cell_type": "code",
      "execution_count": 7,
      "metadata": {
        "colab": {
          "base_uri": "https://localhost:8080/",
          "height": 424
        },
        "id": "hC-d5PSWYBOy",
        "outputId": "5d7cd67a-a4bd-4716-a9b4-b38fb5cf6db8"
      },
      "outputs": [
        {
          "data": {
            "text/html": [
              "\n",
              "  <div id=\"df-6c2ea4e3-fe3d-4366-8057-b69a1a1d641c\">\n",
              "    <div class=\"colab-df-container\">\n",
              "      <div>\n",
              "<style scoped>\n",
              "    .dataframe tbody tr th:only-of-type {\n",
              "        vertical-align: middle;\n",
              "    }\n",
              "\n",
              "    .dataframe tbody tr th {\n",
              "        vertical-align: top;\n",
              "    }\n",
              "\n",
              "    .dataframe thead th {\n",
              "        text-align: right;\n",
              "    }\n",
              "</style>\n",
              "<table border=\"1\" class=\"dataframe\">\n",
              "  <thead>\n",
              "    <tr style=\"text-align: right;\">\n",
              "      <th></th>\n",
              "      <th>Name</th>\n",
              "      <th>Score</th>\n",
              "      <th>Premiered</th>\n",
              "    </tr>\n",
              "  </thead>\n",
              "  <tbody>\n",
              "    <tr>\n",
              "      <th>0</th>\n",
              "      <td>Cowboy Bebop</td>\n",
              "      <td>8.78</td>\n",
              "      <td>1998.0</td>\n",
              "    </tr>\n",
              "    <tr>\n",
              "      <th>2</th>\n",
              "      <td>Trigun</td>\n",
              "      <td>8.24</td>\n",
              "      <td>1998.0</td>\n",
              "    </tr>\n",
              "    <tr>\n",
              "      <th>3</th>\n",
              "      <td>Witch Hunter Robin</td>\n",
              "      <td>7.27</td>\n",
              "      <td>2002.0</td>\n",
              "    </tr>\n",
              "    <tr>\n",
              "      <th>4</th>\n",
              "      <td>Bouken Ou Beet</td>\n",
              "      <td>6.98</td>\n",
              "      <td>2004.0</td>\n",
              "    </tr>\n",
              "    <tr>\n",
              "      <th>5</th>\n",
              "      <td>Eyeshield 21</td>\n",
              "      <td>7.95</td>\n",
              "      <td>2005.0</td>\n",
              "    </tr>\n",
              "    <tr>\n",
              "      <th>...</th>\n",
              "      <td>...</td>\n",
              "      <td>...</td>\n",
              "      <td>...</td>\n",
              "    </tr>\n",
              "    <tr>\n",
              "      <th>17328</th>\n",
              "      <td>Jimihen!!: Jimiko wo Kaechau Jun Isei Kouyuu!!</td>\n",
              "      <td>6.12</td>\n",
              "      <td>2021.0</td>\n",
              "    </tr>\n",
              "    <tr>\n",
              "      <th>17365</th>\n",
              "      <td>Yami Shibai 8</td>\n",
              "      <td>6.09</td>\n",
              "      <td>2021.0</td>\n",
              "    </tr>\n",
              "    <tr>\n",
              "      <th>17373</th>\n",
              "      <td>Pui Pui Molcar</td>\n",
              "      <td>8.33</td>\n",
              "      <td>2021.0</td>\n",
              "    </tr>\n",
              "    <tr>\n",
              "      <th>17459</th>\n",
              "      <td>D4DJ Petit Mix</td>\n",
              "      <td>6.51</td>\n",
              "      <td>2021.0</td>\n",
              "    </tr>\n",
              "    <tr>\n",
              "      <th>17469</th>\n",
              "      <td>Wave!!: Surfing Yappe!! (TV)</td>\n",
              "      <td>6.05</td>\n",
              "      <td>2021.0</td>\n",
              "    </tr>\n",
              "  </tbody>\n",
              "</table>\n",
              "<p>3813 rows × 3 columns</p>\n",
              "</div>\n",
              "      <button class=\"colab-df-convert\" onclick=\"convertToInteractive('df-6c2ea4e3-fe3d-4366-8057-b69a1a1d641c')\"\n",
              "              title=\"Convert this dataframe to an interactive table.\"\n",
              "              style=\"display:none;\">\n",
              "        \n",
              "  <svg xmlns=\"http://www.w3.org/2000/svg\" height=\"24px\"viewBox=\"0 0 24 24\"\n",
              "       width=\"24px\">\n",
              "    <path d=\"M0 0h24v24H0V0z\" fill=\"none\"/>\n",
              "    <path d=\"M18.56 5.44l.94 2.06.94-2.06 2.06-.94-2.06-.94-.94-2.06-.94 2.06-2.06.94zm-11 1L8.5 8.5l.94-2.06 2.06-.94-2.06-.94L8.5 2.5l-.94 2.06-2.06.94zm10 10l.94 2.06.94-2.06 2.06-.94-2.06-.94-.94-2.06-.94 2.06-2.06.94z\"/><path d=\"M17.41 7.96l-1.37-1.37c-.4-.4-.92-.59-1.43-.59-.52 0-1.04.2-1.43.59L10.3 9.45l-7.72 7.72c-.78.78-.78 2.05 0 2.83L4 21.41c.39.39.9.59 1.41.59.51 0 1.02-.2 1.41-.59l7.78-7.78 2.81-2.81c.8-.78.8-2.07 0-2.86zM5.41 20L4 18.59l7.72-7.72 1.47 1.35L5.41 20z\"/>\n",
              "  </svg>\n",
              "      </button>\n",
              "      \n",
              "  <style>\n",
              "    .colab-df-container {\n",
              "      display:flex;\n",
              "      flex-wrap:wrap;\n",
              "      gap: 12px;\n",
              "    }\n",
              "\n",
              "    .colab-df-convert {\n",
              "      background-color: #E8F0FE;\n",
              "      border: none;\n",
              "      border-radius: 50%;\n",
              "      cursor: pointer;\n",
              "      display: none;\n",
              "      fill: #1967D2;\n",
              "      height: 32px;\n",
              "      padding: 0 0 0 0;\n",
              "      width: 32px;\n",
              "    }\n",
              "\n",
              "    .colab-df-convert:hover {\n",
              "      background-color: #E2EBFA;\n",
              "      box-shadow: 0px 1px 2px rgba(60, 64, 67, 0.3), 0px 1px 3px 1px rgba(60, 64, 67, 0.15);\n",
              "      fill: #174EA6;\n",
              "    }\n",
              "\n",
              "    [theme=dark] .colab-df-convert {\n",
              "      background-color: #3B4455;\n",
              "      fill: #D2E3FC;\n",
              "    }\n",
              "\n",
              "    [theme=dark] .colab-df-convert:hover {\n",
              "      background-color: #434B5C;\n",
              "      box-shadow: 0px 1px 3px 1px rgba(0, 0, 0, 0.15);\n",
              "      filter: drop-shadow(0px 1px 2px rgba(0, 0, 0, 0.3));\n",
              "      fill: #FFFFFF;\n",
              "    }\n",
              "  </style>\n",
              "\n",
              "      <script>\n",
              "        const buttonEl =\n",
              "          document.querySelector('#df-6c2ea4e3-fe3d-4366-8057-b69a1a1d641c button.colab-df-convert');\n",
              "        buttonEl.style.display =\n",
              "          google.colab.kernel.accessAllowed ? 'block' : 'none';\n",
              "\n",
              "        async function convertToInteractive(key) {\n",
              "          const element = document.querySelector('#df-6c2ea4e3-fe3d-4366-8057-b69a1a1d641c');\n",
              "          const dataTable =\n",
              "            await google.colab.kernel.invokeFunction('convertToInteractive',\n",
              "                                                     [key], {});\n",
              "          if (!dataTable) return;\n",
              "\n",
              "          const docLinkHtml = 'Like what you see? Visit the ' +\n",
              "            '<a target=\"_blank\" href=https://colab.research.google.com/notebooks/data_table.ipynb>data table notebook</a>'\n",
              "            + ' to learn more about interactive tables.';\n",
              "          element.innerHTML = '';\n",
              "          dataTable['output_type'] = 'display_data';\n",
              "          await google.colab.output.renderOutput(dataTable, element);\n",
              "          const docLink = document.createElement('div');\n",
              "          docLink.innerHTML = docLinkHtml;\n",
              "          element.appendChild(docLink);\n",
              "        }\n",
              "      </script>\n",
              "    </div>\n",
              "  </div>\n",
              "  "
            ],
            "text/plain": [
              "                                                 Name  Score  Premiered\n",
              "0                                        Cowboy Bebop   8.78     1998.0\n",
              "2                                              Trigun   8.24     1998.0\n",
              "3                                  Witch Hunter Robin   7.27     2002.0\n",
              "4                                      Bouken Ou Beet   6.98     2004.0\n",
              "5                                        Eyeshield 21   7.95     2005.0\n",
              "...                                               ...    ...        ...\n",
              "17328  Jimihen!!: Jimiko wo Kaechau Jun Isei Kouyuu!!   6.12     2021.0\n",
              "17365                                   Yami Shibai 8   6.09     2021.0\n",
              "17373                                  Pui Pui Molcar   8.33     2021.0\n",
              "17459                                  D4DJ Petit Mix   6.51     2021.0\n",
              "17469                    Wave!!: Surfing Yappe!! (TV)   6.05     2021.0\n",
              "\n",
              "[3813 rows x 3 columns]"
            ]
          },
          "execution_count": 7,
          "metadata": {},
          "output_type": "execute_result"
        }
      ],
      "source": [
        "df_premiered_year = df_data.iloc[:, [1]+[2]+[9]]\n",
        "df_premiered_year = df_premiered_year[(df_premiered_year['Premiered'].notnull()) & (df_premiered_year['Score'].notnull())]\n",
        "df_premiered_year"
      ]
    },
    {
      "cell_type": "code",
      "execution_count": 8,
      "metadata": {
        "colab": {
          "base_uri": "https://localhost:8080/"
        },
        "id": "CTAgJB6jWvPR",
        "outputId": "949ccb32-acef-4f39-b57e-1a8300200597"
      },
      "outputs": [
        {
          "data": {
            "text/plain": [
              "2010.0"
            ]
          },
          "execution_count": 8,
          "metadata": {},
          "output_type": "execute_result"
        }
      ],
      "source": [
        "median_premiered_year = np.median(df_premiered_year['Premiered'].values)\n",
        "median_premiered_year"
      ]
    },
    {
      "cell_type": "markdown",
      "metadata": {
        "id": "8JTirkfZZM0w"
      },
      "source": [
        "The median premiered year is 2010"
      ]
    },
    {
      "cell_type": "code",
      "execution_count": 9,
      "metadata": {
        "id": "xOTZWf2vZP-I"
      },
      "outputs": [],
      "source": [
        "df_old_anime = df_premiered_year[df_premiered_year['Premiered'] < median_premiered_year]\n",
        "df_new_anime = df_premiered_year[df_premiered_year['Premiered'] >= median_premiered_year]"
      ]
    },
    {
      "cell_type": "code",
      "execution_count": 10,
      "metadata": {
        "id": "UCe8w5F6aUOF"
      },
      "outputs": [],
      "source": [
        "old_anime_score = df_old_anime['Score']\n",
        "new_anime_score = df_new_anime['Score']"
      ]
    },
    {
      "cell_type": "code",
      "execution_count": 11,
      "metadata": {
        "colab": {
          "base_uri": "https://localhost:8080/",
          "height": 71
        },
        "id": "cASZaAyRNmsg",
        "outputId": "14b9d8c9-97bb-47ec-8706-b79c7097bbf5"
      },
      "outputs": [
        {
          "data": {
            "application/vnd.google.colaboratory.intrinsic+json": {
              "type": "string"
            },
            "text/plain": [
              "'n1 = old_anime_score.count()\\nn2 = new_anime_score.count()\\nvar1 = np.var(old_anime_score)\\nvar2 = np.var(new_anime_score)\\ns = np.sqrt(((n1 - 1) * var1 + (n2 - 1) * var2) / (n1 + n2 - 2))\\nu1 = old_anime_score.mean()\\nu2 = new_anime_score.mean()\\nd = (u1 - u2) / s\\npower = TTestIndPower()\\nn_test = power.solve_power(nobs1=n1, effect_size=d, power = None, alpha = 0.005)\\nn_test'"
            ]
          },
          "execution_count": 11,
          "metadata": {},
          "output_type": "execute_result"
        }
      ],
      "source": [
        "'''n1 = old_anime_score.count()\n",
        "n2 = new_anime_score.count()\n",
        "var1 = np.var(old_anime_score)\n",
        "var2 = np.var(new_anime_score)\n",
        "s = np.sqrt(((n1 - 1) * var1 + (n2 - 1) * var2) / (n1 + n2 - 2))\n",
        "u1 = old_anime_score.mean()\n",
        "u2 = new_anime_score.mean()\n",
        "d = (u1 - u2) / s\n",
        "power = TTestIndPower()\n",
        "n_test = power.solve_power(nobs1=n1, effect_size=d, power = None, alpha = 0.005)\n",
        "n_test'''"
      ]
    },
    {
      "cell_type": "code",
      "execution_count": 12,
      "metadata": {
        "colab": {
          "base_uri": "https://localhost:8080/",
          "height": 313
        },
        "id": "uu3934bDl3Pu",
        "outputId": "a1bcb0db-5346-4755-a85e-4844ad440250"
      },
      "outputs": [
        {
          "data": {
            "text/plain": [
              "[Text(0.5, 1.0, 'Old Anime Score Distribution')]"
            ]
          },
          "execution_count": 12,
          "metadata": {},
          "output_type": "execute_result"
        },
        {
          "data": {
            "image/png": "[encoded data removed]",
            "text/plain": [
              "<Figure size 432x288 with 1 Axes>"
            ]
          },
          "metadata": {
            "needs_background": "light"
          },
          "output_type": "display_data"
        }
      ],
      "source": [
        "sns.histplot(data=old_anime_score, kde=True).set(title=\"Old Anime Score Distribution\")"
      ]
    },
    {
      "cell_type": "code",
      "execution_count": 13,
      "metadata": {
        "colab": {
          "base_uri": "https://localhost:8080/",
          "height": 313
        },
        "id": "ComL6DICmZpW",
        "outputId": "78337a4e-9e08-49ff-d38d-7243b9e8861a"
      },
      "outputs": [
        {
          "data": {
            "text/plain": [
              "[Text(0.5, 1.0, 'New Anime Score Distribution')]"
            ]
          },
          "execution_count": 13,
          "metadata": {},
          "output_type": "execute_result"
        },
        {
          "data": {
            "image/png": "[encoded data removed]",
            "text/plain": [
              "<Figure size 432x288 with 1 Axes>"
            ]
          },
          "metadata": {
            "needs_background": "light"
          },
          "output_type": "display_data"
        }
      ],
      "source": [
        "sns.histplot(data=new_anime_score, kde=True).set(title=\"New Anime Score Distribution\")"
      ]
    },
    {
      "cell_type": "code",
      "execution_count": 14,
      "metadata": {
        "colab": {
          "base_uri": "https://localhost:8080/"
        },
        "id": "Sv5eF3iaZ9tG",
        "outputId": "329c15bc-eba6-49bd-fb21-a8ec176a0a64"
      },
      "outputs": [
        {
          "data": {
            "text/plain": [
              "Ttest_indResult(statistic=0.8094848259797295, pvalue=0.7908565680575461)"
            ]
          },
          "execution_count": 14,
          "metadata": {},
          "output_type": "execute_result"
        }
      ],
      "source": [
        "stats.ttest_ind(old_anime_score, new_anime_score, alternative=\"less\")"
      ]
    },
    {
      "cell_type": "markdown",
      "metadata": {
        "id": "J8f2WnKMd_1v"
      },
      "source": [
        "We can accept the null hypothesis and conclude that newer anime is not neccessarily scored higher than older anime"
      ]
    },
    {
      "cell_type": "markdown",
      "metadata": {
        "id": "E4THFCTcN0Pz"
      },
      "source": [
        "# 2. Are adventure anime more popular than action ones?\n",
        "Mann-Whitney U test:\n",
        "- not reasonable to reduce to sample mean\n",
        "- we have no prior knowledge on the distribution"
      ]
    },
    {
      "cell_type": "code",
      "execution_count": 15,
      "metadata": {
        "colab": {
          "base_uri": "https://localhost:8080/"
        },
        "id": "hWl2FZ9GoDJL",
        "outputId": "195cd570-0047-4665-e09d-ee9be50a97b9"
      },
      "outputs": [
        {
          "data": {
            "text/plain": [
              "43"
            ]
          },
          "execution_count": 15,
          "metadata": {},
          "output_type": "execute_result"
        }
      ],
      "source": [
        "df_data.columns.get_loc(\"(genre)Action\")"
      ]
    },
    {
      "cell_type": "code",
      "execution_count": 16,
      "metadata": {
        "colab": {
          "base_uri": "https://localhost:8080/",
          "height": 424
        },
        "id": "2-w7j0CsbB1M",
        "outputId": "4ddc5c60-05ab-4762-9c8e-509673d4ab34"
      },
      "outputs": [
        {
          "data": {
            "text/html": [
              "\n",
              "  <div id=\"df-cdc67258-de99-4ce0-8966-4b5c596e6529\">\n",
              "    <div class=\"colab-df-container\">\n",
              "      <div>\n",
              "<style scoped>\n",
              "    .dataframe tbody tr th:only-of-type {\n",
              "        vertical-align: middle;\n",
              "    }\n",
              "\n",
              "    .dataframe tbody tr th {\n",
              "        vertical-align: top;\n",
              "    }\n",
              "\n",
              "    .dataframe thead th {\n",
              "        text-align: right;\n",
              "    }\n",
              "</style>\n",
              "<table border=\"1\" class=\"dataframe\">\n",
              "  <thead>\n",
              "    <tr style=\"text-align: right;\">\n",
              "      <th></th>\n",
              "      <th>Score</th>\n",
              "      <th>Genres</th>\n",
              "      <th>Popularity</th>\n",
              "      <th>(genre)Action</th>\n",
              "      <th>(genre)Adventure</th>\n",
              "    </tr>\n",
              "  </thead>\n",
              "  <tbody>\n",
              "    <tr>\n",
              "      <th>0</th>\n",
              "      <td>8.78</td>\n",
              "      <td>Action, Adventure, Comedy, Drama, Sci-Fi, Space</td>\n",
              "      <td>39</td>\n",
              "      <td>1</td>\n",
              "      <td>1</td>\n",
              "    </tr>\n",
              "    <tr>\n",
              "      <th>1</th>\n",
              "      <td>8.39</td>\n",
              "      <td>Action, Drama, Mystery, Sci-Fi, Space</td>\n",
              "      <td>518</td>\n",
              "      <td>1</td>\n",
              "      <td>0</td>\n",
              "    </tr>\n",
              "    <tr>\n",
              "      <th>2</th>\n",
              "      <td>8.24</td>\n",
              "      <td>Action, Sci-Fi, Adventure, Comedy, Drama, Shounen</td>\n",
              "      <td>201</td>\n",
              "      <td>1</td>\n",
              "      <td>1</td>\n",
              "    </tr>\n",
              "    <tr>\n",
              "      <th>3</th>\n",
              "      <td>7.27</td>\n",
              "      <td>Action, Mystery, Police, Supernatural, Drama, ...</td>\n",
              "      <td>1467</td>\n",
              "      <td>1</td>\n",
              "      <td>0</td>\n",
              "    </tr>\n",
              "    <tr>\n",
              "      <th>4</th>\n",
              "      <td>6.98</td>\n",
              "      <td>Adventure, Fantasy, Shounen, Supernatural</td>\n",
              "      <td>4369</td>\n",
              "      <td>0</td>\n",
              "      <td>1</td>\n",
              "    </tr>\n",
              "    <tr>\n",
              "      <th>...</th>\n",
              "      <td>...</td>\n",
              "      <td>...</td>\n",
              "      <td>...</td>\n",
              "      <td>...</td>\n",
              "      <td>...</td>\n",
              "    </tr>\n",
              "    <tr>\n",
              "      <th>17557</th>\n",
              "      <td>NaN</td>\n",
              "      <td>Adventure, Mystery, Supernatural</td>\n",
              "      <td>13116</td>\n",
              "      <td>0</td>\n",
              "      <td>1</td>\n",
              "    </tr>\n",
              "    <tr>\n",
              "      <th>17558</th>\n",
              "      <td>NaN</td>\n",
              "      <td>Comedy, Horror, Supernatural</td>\n",
              "      <td>17562</td>\n",
              "      <td>0</td>\n",
              "      <td>0</td>\n",
              "    </tr>\n",
              "    <tr>\n",
              "      <th>17559</th>\n",
              "      <td>NaN</td>\n",
              "      <td>Mystery, Dementia, Horror, Psychological, Supe...</td>\n",
              "      <td>17558</td>\n",
              "      <td>0</td>\n",
              "      <td>0</td>\n",
              "    </tr>\n",
              "    <tr>\n",
              "      <th>17560</th>\n",
              "      <td>NaN</td>\n",
              "      <td>Adventure, Slice of Life, Comedy</td>\n",
              "      <td>17565</td>\n",
              "      <td>0</td>\n",
              "      <td>1</td>\n",
              "    </tr>\n",
              "    <tr>\n",
              "      <th>17561</th>\n",
              "      <td>NaN</td>\n",
              "      <td>Action, Fantasy</td>\n",
              "      <td>17563</td>\n",
              "      <td>1</td>\n",
              "      <td>0</td>\n",
              "    </tr>\n",
              "  </tbody>\n",
              "</table>\n",
              "<p>17562 rows × 5 columns</p>\n",
              "</div>\n",
              "      <button class=\"colab-df-convert\" onclick=\"convertToInteractive('df-cdc67258-de99-4ce0-8966-4b5c596e6529')\"\n",
              "              title=\"Convert this dataframe to an interactive table.\"\n",
              "              style=\"display:none;\">\n",
              "        \n",
              "  <svg xmlns=\"http://www.w3.org/2000/svg\" height=\"24px\"viewBox=\"0 0 24 24\"\n",
              "       width=\"24px\">\n",
              "    <path d=\"M0 0h24v24H0V0z\" fill=\"none\"/>\n",
              "    <path d=\"M18.56 5.44l.94 2.06.94-2.06 2.06-.94-2.06-.94-.94-2.06-.94 2.06-2.06.94zm-11 1L8.5 8.5l.94-2.06 2.06-.94-2.06-.94L8.5 2.5l-.94 2.06-2.06.94zm10 10l.94 2.06.94-2.06 2.06-.94-2.06-.94-.94-2.06-.94 2.06-2.06.94z\"/><path d=\"M17.41 7.96l-1.37-1.37c-.4-.4-.92-.59-1.43-.59-.52 0-1.04.2-1.43.59L10.3 9.45l-7.72 7.72c-.78.78-.78 2.05 0 2.83L4 21.41c.39.39.9.59 1.41.59.51 0 1.02-.2 1.41-.59l7.78-7.78 2.81-2.81c.8-.78.8-2.07 0-2.86zM5.41 20L4 18.59l7.72-7.72 1.47 1.35L5.41 20z\"/>\n",
              "  </svg>\n",
              "      </button>\n",
              "      \n",
              "  <style>\n",
              "    .colab-df-container {\n",
              "      display:flex;\n",
              "      flex-wrap:wrap;\n",
              "      gap: 12px;\n",
              "    }\n",
              "\n",
              "    .colab-df-convert {\n",
              "      background-color: #E8F0FE;\n",
              "      border: none;\n",
              "      border-radius: 50%;\n",
              "      cursor: pointer;\n",
              "      display: none;\n",
              "      fill: #1967D2;\n",
              "      height: 32px;\n",
              "      padding: 0 0 0 0;\n",
              "      width: 32px;\n",
              "    }\n",
              "\n",
              "    .colab-df-convert:hover {\n",
              "      background-color: #E2EBFA;\n",
              "      box-shadow: 0px 1px 2px rgba(60, 64, 67, 0.3), 0px 1px 3px 1px rgba(60, 64, 67, 0.15);\n",
              "      fill: #174EA6;\n",
              "    }\n",
              "\n",
              "    [theme=dark] .colab-df-convert {\n",
              "      background-color: #3B4455;\n",
              "      fill: #D2E3FC;\n",
              "    }\n",
              "\n",
              "    [theme=dark] .colab-df-convert:hover {\n",
              "      background-color: #434B5C;\n",
              "      box-shadow: 0px 1px 3px 1px rgba(0, 0, 0, 0.15);\n",
              "      filter: drop-shadow(0px 1px 2px rgba(0, 0, 0, 0.3));\n",
              "      fill: #FFFFFF;\n",
              "    }\n",
              "  </style>\n",
              "\n",
              "      <script>\n",
              "        const buttonEl =\n",
              "          document.querySelector('#df-cdc67258-de99-4ce0-8966-4b5c596e6529 button.colab-df-convert');\n",
              "        buttonEl.style.display =\n",
              "          google.colab.kernel.accessAllowed ? 'block' : 'none';\n",
              "\n",
              "        async function convertToInteractive(key) {\n",
              "          const element = document.querySelector('#df-cdc67258-de99-4ce0-8966-4b5c596e6529');\n",
              "          const dataTable =\n",
              "            await google.colab.kernel.invokeFunction('convertToInteractive',\n",
              "                                                     [key], {});\n",
              "          if (!dataTable) return;\n",
              "\n",
              "          const docLinkHtml = 'Like what you see? Visit the ' +\n",
              "            '<a target=\"_blank\" href=https://colab.research.google.com/notebooks/data_table.ipynb>data table notebook</a>'\n",
              "            + ' to learn more about interactive tables.';\n",
              "          element.innerHTML = '';\n",
              "          dataTable['output_type'] = 'display_data';\n",
              "          await google.colab.output.renderOutput(dataTable, element);\n",
              "          const docLink = document.createElement('div');\n",
              "          docLink.innerHTML = docLinkHtml;\n",
              "          element.appendChild(docLink);\n",
              "        }\n",
              "      </script>\n",
              "    </div>\n",
              "  </div>\n",
              "  "
            ],
            "text/plain": [
              "       Score                                             Genres  Popularity  \\\n",
              "0       8.78    Action, Adventure, Comedy, Drama, Sci-Fi, Space          39   \n",
              "1       8.39              Action, Drama, Mystery, Sci-Fi, Space         518   \n",
              "2       8.24  Action, Sci-Fi, Adventure, Comedy, Drama, Shounen         201   \n",
              "3       7.27  Action, Mystery, Police, Supernatural, Drama, ...        1467   \n",
              "4       6.98          Adventure, Fantasy, Shounen, Supernatural        4369   \n",
              "...      ...                                                ...         ...   \n",
              "17557    NaN                   Adventure, Mystery, Supernatural       13116   \n",
              "17558    NaN                       Comedy, Horror, Supernatural       17562   \n",
              "17559    NaN  Mystery, Dementia, Horror, Psychological, Supe...       17558   \n",
              "17560    NaN                   Adventure, Slice of Life, Comedy       17565   \n",
              "17561    NaN                                    Action, Fantasy       17563   \n",
              "\n",
              "       (genre)Action  (genre)Adventure  \n",
              "0                  1                 1  \n",
              "1                  1                 0  \n",
              "2                  1                 1  \n",
              "3                  1                 0  \n",
              "4                  0                 1  \n",
              "...              ...               ...  \n",
              "17557              0                 1  \n",
              "17558              0                 0  \n",
              "17559              0                 0  \n",
              "17560              0                 1  \n",
              "17561              1                 0  \n",
              "\n",
              "[17562 rows x 5 columns]"
            ]
          },
          "execution_count": 16,
          "metadata": {},
          "output_type": "execute_result"
        }
      ],
      "source": [
        "Genres = ['(genre)Action', '(genre)Adventure']\n",
        "df_genre = df_data.iloc[:, [2]+[3]+[17]+[43]+[44]]\n",
        "df_genre = df_genre[(df_genre['Popularity'] != 'Unknown')]\n",
        "df_genre"
      ]
    },
    {
      "cell_type": "code",
      "execution_count": 17,
      "metadata": {
        "id": "QdgGnQZ6cbYQ"
      },
      "outputs": [],
      "source": [
        "action_score = df_genre[df_genre['(genre)Action'] == 1]['Popularity']\n",
        "adventure_score = df_genre[df_genre['(genre)Adventure'] == 1]['Popularity']"
      ]
    },
    {
      "cell_type": "code",
      "execution_count": 18,
      "metadata": {
        "colab": {
          "base_uri": "https://localhost:8080/",
          "height": 71
        },
        "id": "dqlJwFKRB30R",
        "outputId": "da23cb38-7fa2-4c4d-8414-98f134d8710e"
      },
      "outputs": [
        {
          "data": {
            "application/vnd.google.colaboratory.intrinsic+json": {
              "type": "string"
            },
            "text/plain": [
              "'n1 = action_score.count()\\nn2 = adventure_score.count()\\nvar1 = np.var(action_score)\\nvar2 = np.var(adventure_score)\\ns = np.sqrt(((n1 - 1) * var1 + (n2 - 1) * var2) / (n1 + n2 - 2))\\nu1 = action_score.mean()\\nu2 = adventure_score.mean()\\nd = (u1 - u2) / s\\npower = TTestIndPower()\\nn_test = power.solve_power(nobs1=n1, effect_size=d, power = None, alpha = 0.005)\\nn_test'"
            ]
          },
          "execution_count": 18,
          "metadata": {},
          "output_type": "execute_result"
        }
      ],
      "source": [
        "'''n1 = action_score.count()\n",
        "n2 = adventure_score.count()\n",
        "var1 = np.var(action_score)\n",
        "var2 = np.var(adventure_score)\n",
        "s = np.sqrt(((n1 - 1) * var1 + (n2 - 1) * var2) / (n1 + n2 - 2))\n",
        "u1 = action_score.mean()\n",
        "u2 = adventure_score.mean()\n",
        "d = (u1 - u2) / s\n",
        "power = TTestIndPower()\n",
        "n_test = power.solve_power(nobs1=n1, effect_size=d, power = None, alpha = 0.005)\n",
        "n_test'''"
      ]
    },
    {
      "cell_type": "code",
      "execution_count": 19,
      "metadata": {
        "colab": {
          "base_uri": "https://localhost:8080/",
          "height": 514
        },
        "id": "we9H-Q9PdCs3",
        "outputId": "9c14903d-50a7-4246-d097-4e5b54f30cd5"
      },
      "outputs": [
        {
          "data": {
            "image/png": "[encoded data removed]",
            "text/plain": [
              "<Figure size 2160x720 with 2 Axes>"
            ]
          },
          "metadata": {
            "needs_background": "light"
          },
          "output_type": "display_data"
        }
      ],
      "source": [
        "fig, axs = plt.subplots(1, 2, figsize=(30, 10))\n",
        "fig.suptitle(\"Distribution of anime Popularity with different genres\")\n",
        "axs[0].hist(action_score, bins=50)\n",
        "axs[0].title.set_text(\"Action Popularity: \" + str(round(action_score.mean(), 2)))\n",
        "axs[1].hist(adventure_score, bins=50)\n",
        "axs[1].title.set_text(\"Adventure Popularity: \" + str(round(adventure_score.mean(), 2)))"
      ]
    },
    {
      "cell_type": "code",
      "execution_count": 20,
      "metadata": {
        "colab": {
          "base_uri": "https://localhost:8080/",
          "height": 500
        },
        "id": "lLlQyQY_doTn",
        "outputId": "b0e5d3c7-e2c3-4158-a438-a88f8b28751d"
      },
      "outputs": [
        {
          "name": "stderr",
          "output_type": "stream",
          "text": [
            "/usr/local/lib/python3.8/dist-packages/matplotlib/cbook/__init__.py:1376: VisibleDeprecationWarning: Creating an ndarray from ragged nested sequences (which is a list-or-tuple of lists-or-tuples-or ndarrays with different lengths or shapes) is deprecated. If you meant to do this, you must specify 'dtype=object' when creating the ndarray.\n",
            "  X = np.atleast_1d(X.T if isinstance(X, np.ndarray) else np.asarray(X))\n"
          ]
        },
        {
          "data": {
            "image/png": "[encoded data removed]",
            "text/plain": [
              "<Figure size 720x504 with 1 Axes>"
            ]
          },
          "metadata": {
            "needs_background": "light"
          },
          "output_type": "display_data"
        }
      ],
      "source": [
        "fig = plt.figure(figsize =(10, 7))\n",
        " \n",
        "# Creating axes instance\n",
        "ax = fig.add_subplot()\n",
        "data = [action_score, adventure_score]\n",
        "# Creating plot\n",
        "bp = ax.boxplot(data)\n",
        "ax.title.set_text(\"Popularity by Genre\")\n",
        "ax.set_xticklabels([\"action\", \"adventure\"])\n",
        "# show plot\n",
        "plt.show()"
      ]
    },
    {
      "cell_type": "code",
      "execution_count": 21,
      "metadata": {
        "colab": {
          "base_uri": "https://localhost:8080/"
        },
        "id": "ctY-1QwGF8Qd",
        "outputId": "c19dc6ed-573c-44db-ad54-23d1d385d2b1"
      },
      "outputs": [
        {
          "data": {
            "text/plain": [
              "MannwhitneyuResult(statistic=4673254.5, pvalue=1.6037804005231797e-40)"
            ]
          },
          "execution_count": 21,
          "metadata": {},
          "output_type": "execute_result"
        }
      ],
      "source": [
        "stats.mannwhitneyu(action_score, adventure_score, alternative = 'less')"
      ]
    },
    {
      "cell_type": "markdown",
      "metadata": {
        "id": "rBgt2fPzfm4K"
      },
      "source": [
        "# 3. Anime Length vs. completion\n",
        "Whether users are more likely to complete anime with less episodes?\n",
        "\n",
        "Kruskal-wallis:\n",
        "1. not reasonable to reduce to sample mean\n",
        "2. more than three groups\n",
        "\n",
        "null: there is no difference in the completion rate of episodes with different length\n",
        "\n",
        "alt: there is difference in the completion rate of episodes with differenet length"
      ]
    },
    {
      "cell_type": "code",
      "execution_count": 22,
      "metadata": {
        "colab": {
          "base_uri": "https://localhost:8080/"
        },
        "id": "ji0qZGoRrLHi",
        "outputId": "06cc4d23-3d7c-4a6c-ad40-df5608034ee5"
      },
      "outputs": [
        {
          "data": {
            "text/plain": [
              "35"
            ]
          },
          "execution_count": 22,
          "metadata": {},
          "output_type": "execute_result"
        }
      ],
      "source": [
        "df_data.columns.get_loc(\"episodes_class\")"
      ]
    },
    {
      "cell_type": "code",
      "execution_count": 23,
      "metadata": {
        "colab": {
          "base_uri": "https://localhost:8080/",
          "height": 424
        },
        "id": "cAudgB16u_3Y",
        "outputId": "e62a2eac-9612-40ea-b394-0a93666cc8a0"
      },
      "outputs": [
        {
          "data": {
            "text/html": [
              "\n",
              "  <div id=\"df-570c8a21-455d-480d-917e-602dfe2e8f65\">\n",
              "    <div class=\"colab-df-container\">\n",
              "      <div>\n",
              "<style scoped>\n",
              "    .dataframe tbody tr th:only-of-type {\n",
              "        vertical-align: middle;\n",
              "    }\n",
              "\n",
              "    .dataframe tbody tr th {\n",
              "        vertical-align: top;\n",
              "    }\n",
              "\n",
              "    .dataframe thead th {\n",
              "        text-align: right;\n",
              "    }\n",
              "</style>\n",
              "<table border=\"1\" class=\"dataframe\">\n",
              "  <thead>\n",
              "    <tr style=\"text-align: right;\">\n",
              "      <th></th>\n",
              "      <th>Name</th>\n",
              "      <th>Members</th>\n",
              "      <th>Completed</th>\n",
              "      <th>episodes_class</th>\n",
              "    </tr>\n",
              "  </thead>\n",
              "  <tbody>\n",
              "    <tr>\n",
              "      <th>0</th>\n",
              "      <td>Cowboy Bebop</td>\n",
              "      <td>1251960</td>\n",
              "      <td>718161</td>\n",
              "      <td>short</td>\n",
              "    </tr>\n",
              "    <tr>\n",
              "      <th>1</th>\n",
              "      <td>Cowboy Bebop: Tengoku no Tobira</td>\n",
              "      <td>273145</td>\n",
              "      <td>208333</td>\n",
              "      <td>extra_short</td>\n",
              "    </tr>\n",
              "    <tr>\n",
              "      <th>2</th>\n",
              "      <td>Trigun</td>\n",
              "      <td>558913</td>\n",
              "      <td>343492</td>\n",
              "      <td>short</td>\n",
              "    </tr>\n",
              "    <tr>\n",
              "      <th>3</th>\n",
              "      <td>Witch Hunter Robin</td>\n",
              "      <td>94683</td>\n",
              "      <td>46165</td>\n",
              "      <td>short</td>\n",
              "    </tr>\n",
              "    <tr>\n",
              "      <th>4</th>\n",
              "      <td>Bouken Ou Beet</td>\n",
              "      <td>13224</td>\n",
              "      <td>7314</td>\n",
              "      <td>long</td>\n",
              "    </tr>\n",
              "    <tr>\n",
              "      <th>...</th>\n",
              "      <td>...</td>\n",
              "      <td>...</td>\n",
              "      <td>...</td>\n",
              "      <td>...</td>\n",
              "    </tr>\n",
              "    <tr>\n",
              "      <th>17547</th>\n",
              "      <td>Kitarou Tanjou: Gegege no Nazo</td>\n",
              "      <td>1009</td>\n",
              "      <td>0</td>\n",
              "      <td>extra_short</td>\n",
              "    </tr>\n",
              "    <tr>\n",
              "      <th>17548</th>\n",
              "      <td>The Sun, Moon and Stars</td>\n",
              "      <td>1</td>\n",
              "      <td>0</td>\n",
              "      <td>extra_short</td>\n",
              "    </tr>\n",
              "    <tr>\n",
              "      <th>17549</th>\n",
              "      <td>Mahoutsukai no Yome: Nishi no Shounen to Seira...</td>\n",
              "      <td>13493</td>\n",
              "      <td>4</td>\n",
              "      <td>extra_short</td>\n",
              "    </tr>\n",
              "    <tr>\n",
              "      <th>17552</th>\n",
              "      <td>SK∞: Crazy Rock Jam</td>\n",
              "      <td>10722</td>\n",
              "      <td>7207</td>\n",
              "      <td>extra_short</td>\n",
              "    </tr>\n",
              "    <tr>\n",
              "      <th>17556</th>\n",
              "      <td>Wan Jie Shen Zhu 3rd Season</td>\n",
              "      <td>125</td>\n",
              "      <td>0</td>\n",
              "      <td>medium</td>\n",
              "    </tr>\n",
              "  </tbody>\n",
              "</table>\n",
              "<p>17046 rows × 4 columns</p>\n",
              "</div>\n",
              "      <button class=\"colab-df-convert\" onclick=\"convertToInteractive('df-570c8a21-455d-480d-917e-602dfe2e8f65')\"\n",
              "              title=\"Convert this dataframe to an interactive table.\"\n",
              "              style=\"display:none;\">\n",
              "        \n",
              "  <svg xmlns=\"http://www.w3.org/2000/svg\" height=\"24px\"viewBox=\"0 0 24 24\"\n",
              "       width=\"24px\">\n",
              "    <path d=\"M0 0h24v24H0V0z\" fill=\"none\"/>\n",
              "    <path d=\"M18.56 5.44l.94 2.06.94-2.06 2.06-.94-2.06-.94-.94-2.06-.94 2.06-2.06.94zm-11 1L8.5 8.5l.94-2.06 2.06-.94-2.06-.94L8.5 2.5l-.94 2.06-2.06.94zm10 10l.94 2.06.94-2.06 2.06-.94-2.06-.94-.94-2.06-.94 2.06-2.06.94z\"/><path d=\"M17.41 7.96l-1.37-1.37c-.4-.4-.92-.59-1.43-.59-.52 0-1.04.2-1.43.59L10.3 9.45l-7.72 7.72c-.78.78-.78 2.05 0 2.83L4 21.41c.39.39.9.59 1.41.59.51 0 1.02-.2 1.41-.59l7.78-7.78 2.81-2.81c.8-.78.8-2.07 0-2.86zM5.41 20L4 18.59l7.72-7.72 1.47 1.35L5.41 20z\"/>\n",
              "  </svg>\n",
              "      </button>\n",
              "      \n",
              "  <style>\n",
              "    .colab-df-container {\n",
              "      display:flex;\n",
              "      flex-wrap:wrap;\n",
              "      gap: 12px;\n",
              "    }\n",
              "\n",
              "    .colab-df-convert {\n",
              "      background-color: #E8F0FE;\n",
              "      border: none;\n",
              "      border-radius: 50%;\n",
              "      cursor: pointer;\n",
              "      display: none;\n",
              "      fill: #1967D2;\n",
              "      height: 32px;\n",
              "      padding: 0 0 0 0;\n",
              "      width: 32px;\n",
              "    }\n",
              "\n",
              "    .colab-df-convert:hover {\n",
              "      background-color: #E2EBFA;\n",
              "      box-shadow: 0px 1px 2px rgba(60, 64, 67, 0.3), 0px 1px 3px 1px rgba(60, 64, 67, 0.15);\n",
              "      fill: #174EA6;\n",
              "    }\n",
              "\n",
              "    [theme=dark] .colab-df-convert {\n",
              "      background-color: #3B4455;\n",
              "      fill: #D2E3FC;\n",
              "    }\n",
              "\n",
              "    [theme=dark] .colab-df-convert:hover {\n",
              "      background-color: #434B5C;\n",
              "      box-shadow: 0px 1px 3px 1px rgba(0, 0, 0, 0.15);\n",
              "      filter: drop-shadow(0px 1px 2px rgba(0, 0, 0, 0.3));\n",
              "      fill: #FFFFFF;\n",
              "    }\n",
              "  </style>\n",
              "\n",
              "      <script>\n",
              "        const buttonEl =\n",
              "          document.querySelector('#df-570c8a21-455d-480d-917e-602dfe2e8f65 button.colab-df-convert');\n",
              "        buttonEl.style.display =\n",
              "          google.colab.kernel.accessAllowed ? 'block' : 'none';\n",
              "\n",
              "        async function convertToInteractive(key) {\n",
              "          const element = document.querySelector('#df-570c8a21-455d-480d-917e-602dfe2e8f65');\n",
              "          const dataTable =\n",
              "            await google.colab.kernel.invokeFunction('convertToInteractive',\n",
              "                                                     [key], {});\n",
              "          if (!dataTable) return;\n",
              "\n",
              "          const docLinkHtml = 'Like what you see? Visit the ' +\n",
              "            '<a target=\"_blank\" href=https://colab.research.google.com/notebooks/data_table.ipynb>data table notebook</a>'\n",
              "            + ' to learn more about interactive tables.';\n",
              "          element.innerHTML = '';\n",
              "          dataTable['output_type'] = 'display_data';\n",
              "          await google.colab.output.renderOutput(dataTable, element);\n",
              "          const docLink = document.createElement('div');\n",
              "          docLink.innerHTML = docLinkHtml;\n",
              "          element.appendChild(docLink);\n",
              "        }\n",
              "      </script>\n",
              "    </div>\n",
              "  </div>\n",
              "  "
            ],
            "text/plain": [
              "                                                    Name  Members  Completed  \\\n",
              "0                                           Cowboy Bebop  1251960     718161   \n",
              "1                        Cowboy Bebop: Tengoku no Tobira   273145     208333   \n",
              "2                                                 Trigun   558913     343492   \n",
              "3                                     Witch Hunter Robin    94683      46165   \n",
              "4                                         Bouken Ou Beet    13224       7314   \n",
              "...                                                  ...      ...        ...   \n",
              "17547                     Kitarou Tanjou: Gegege no Nazo     1009          0   \n",
              "17548                            The Sun, Moon and Stars        1          0   \n",
              "17549  Mahoutsukai no Yome: Nishi no Shounen to Seira...    13493          4   \n",
              "17552                                SK∞: Crazy Rock Jam    10722       7207   \n",
              "17556                        Wan Jie Shen Zhu 3rd Season      125          0   \n",
              "\n",
              "      episodes_class  \n",
              "0              short  \n",
              "1        extra_short  \n",
              "2              short  \n",
              "3              short  \n",
              "4               long  \n",
              "...              ...  \n",
              "17547    extra_short  \n",
              "17548    extra_short  \n",
              "17549    extra_short  \n",
              "17552    extra_short  \n",
              "17556         medium  \n",
              "\n",
              "[17046 rows x 4 columns]"
            ]
          },
          "execution_count": 23,
          "metadata": {},
          "output_type": "execute_result"
        }
      ],
      "source": [
        "df_anime_completion = df_data.iloc[:, [1]+[18]+[21]+[35]]\n",
        "df_anime_completion = df_anime_completion[df_anime_completion[\"episodes_class\"] != 'continue']\n",
        "df_anime_completion"
      ]
    },
    {
      "cell_type": "code",
      "execution_count": 24,
      "metadata": {
        "colab": {
          "base_uri": "https://localhost:8080/",
          "height": 424
        },
        "id": "BrN2KkU6vUOL",
        "outputId": "6e7b6388-5bd0-4b0a-cb99-d80df876c8f1"
      },
      "outputs": [
        {
          "data": {
            "text/html": [
              "\n",
              "  <div id=\"df-66cc535e-b818-4484-94c2-3975c3e68975\">\n",
              "    <div class=\"colab-df-container\">\n",
              "      <div>\n",
              "<style scoped>\n",
              "    .dataframe tbody tr th:only-of-type {\n",
              "        vertical-align: middle;\n",
              "    }\n",
              "\n",
              "    .dataframe tbody tr th {\n",
              "        vertical-align: top;\n",
              "    }\n",
              "\n",
              "    .dataframe thead th {\n",
              "        text-align: right;\n",
              "    }\n",
              "</style>\n",
              "<table border=\"1\" class=\"dataframe\">\n",
              "  <thead>\n",
              "    <tr style=\"text-align: right;\">\n",
              "      <th></th>\n",
              "      <th>Name</th>\n",
              "      <th>Members</th>\n",
              "      <th>Completed</th>\n",
              "      <th>episodes_class</th>\n",
              "      <th>Completion Rate</th>\n",
              "    </tr>\n",
              "  </thead>\n",
              "  <tbody>\n",
              "    <tr>\n",
              "      <th>0</th>\n",
              "      <td>Cowboy Bebop</td>\n",
              "      <td>1251960</td>\n",
              "      <td>718161</td>\n",
              "      <td>short</td>\n",
              "      <td>0.573629</td>\n",
              "    </tr>\n",
              "    <tr>\n",
              "      <th>1</th>\n",
              "      <td>Cowboy Bebop: Tengoku no Tobira</td>\n",
              "      <td>273145</td>\n",
              "      <td>208333</td>\n",
              "      <td>extra_short</td>\n",
              "      <td>0.762719</td>\n",
              "    </tr>\n",
              "    <tr>\n",
              "      <th>2</th>\n",
              "      <td>Trigun</td>\n",
              "      <td>558913</td>\n",
              "      <td>343492</td>\n",
              "      <td>short</td>\n",
              "      <td>0.614571</td>\n",
              "    </tr>\n",
              "    <tr>\n",
              "      <th>3</th>\n",
              "      <td>Witch Hunter Robin</td>\n",
              "      <td>94683</td>\n",
              "      <td>46165</td>\n",
              "      <td>short</td>\n",
              "      <td>0.487574</td>\n",
              "    </tr>\n",
              "    <tr>\n",
              "      <th>4</th>\n",
              "      <td>Bouken Ou Beet</td>\n",
              "      <td>13224</td>\n",
              "      <td>7314</td>\n",
              "      <td>long</td>\n",
              "      <td>0.553085</td>\n",
              "    </tr>\n",
              "    <tr>\n",
              "      <th>...</th>\n",
              "      <td>...</td>\n",
              "      <td>...</td>\n",
              "      <td>...</td>\n",
              "      <td>...</td>\n",
              "      <td>...</td>\n",
              "    </tr>\n",
              "    <tr>\n",
              "      <th>17547</th>\n",
              "      <td>Kitarou Tanjou: Gegege no Nazo</td>\n",
              "      <td>1009</td>\n",
              "      <td>0</td>\n",
              "      <td>extra_short</td>\n",
              "      <td>0.000000</td>\n",
              "    </tr>\n",
              "    <tr>\n",
              "      <th>17548</th>\n",
              "      <td>The Sun, Moon and Stars</td>\n",
              "      <td>1</td>\n",
              "      <td>0</td>\n",
              "      <td>extra_short</td>\n",
              "      <td>0.000000</td>\n",
              "    </tr>\n",
              "    <tr>\n",
              "      <th>17549</th>\n",
              "      <td>Mahoutsukai no Yome: Nishi no Shounen to Seira...</td>\n",
              "      <td>13493</td>\n",
              "      <td>4</td>\n",
              "      <td>extra_short</td>\n",
              "      <td>0.000296</td>\n",
              "    </tr>\n",
              "    <tr>\n",
              "      <th>17552</th>\n",
              "      <td>SK∞: Crazy Rock Jam</td>\n",
              "      <td>10722</td>\n",
              "      <td>7207</td>\n",
              "      <td>extra_short</td>\n",
              "      <td>0.672169</td>\n",
              "    </tr>\n",
              "    <tr>\n",
              "      <th>17556</th>\n",
              "      <td>Wan Jie Shen Zhu 3rd Season</td>\n",
              "      <td>125</td>\n",
              "      <td>0</td>\n",
              "      <td>medium</td>\n",
              "      <td>0.000000</td>\n",
              "    </tr>\n",
              "  </tbody>\n",
              "</table>\n",
              "<p>17046 rows × 5 columns</p>\n",
              "</div>\n",
              "      <button class=\"colab-df-convert\" onclick=\"convertToInteractive('df-66cc535e-b818-4484-94c2-3975c3e68975')\"\n",
              "              title=\"Convert this dataframe to an interactive table.\"\n",
              "              style=\"display:none;\">\n",
              "        \n",
              "  <svg xmlns=\"http://www.w3.org/2000/svg\" height=\"24px\"viewBox=\"0 0 24 24\"\n",
              "       width=\"24px\">\n",
              "    <path d=\"M0 0h24v24H0V0z\" fill=\"none\"/>\n",
              "    <path d=\"M18.56 5.44l.94 2.06.94-2.06 2.06-.94-2.06-.94-.94-2.06-.94 2.06-2.06.94zm-11 1L8.5 8.5l.94-2.06 2.06-.94-2.06-.94L8.5 2.5l-.94 2.06-2.06.94zm10 10l.94 2.06.94-2.06 2.06-.94-2.06-.94-.94-2.06-.94 2.06-2.06.94z\"/><path d=\"M17.41 7.96l-1.37-1.37c-.4-.4-.92-.59-1.43-.59-.52 0-1.04.2-1.43.59L10.3 9.45l-7.72 7.72c-.78.78-.78 2.05 0 2.83L4 21.41c.39.39.9.59 1.41.59.51 0 1.02-.2 1.41-.59l7.78-7.78 2.81-2.81c.8-.78.8-2.07 0-2.86zM5.41 20L4 18.59l7.72-7.72 1.47 1.35L5.41 20z\"/>\n",
              "  </svg>\n",
              "      </button>\n",
              "      \n",
              "  <style>\n",
              "    .colab-df-container {\n",
              "      display:flex;\n",
              "      flex-wrap:wrap;\n",
              "      gap: 12px;\n",
              "    }\n",
              "\n",
              "    .colab-df-convert {\n",
              "      background-color: #E8F0FE;\n",
              "      border: none;\n",
              "      border-radius: 50%;\n",
              "      cursor: pointer;\n",
              "      display: none;\n",
              "      fill: #1967D2;\n",
              "      height: 32px;\n",
              "      padding: 0 0 0 0;\n",
              "      width: 32px;\n",
              "    }\n",
              "\n",
              "    .colab-df-convert:hover {\n",
              "      background-color: #E2EBFA;\n",
              "      box-shadow: 0px 1px 2px rgba(60, 64, 67, 0.3), 0px 1px 3px 1px rgba(60, 64, 67, 0.15);\n",
              "      fill: #174EA6;\n",
              "    }\n",
              "\n",
              "    [theme=dark] .colab-df-convert {\n",
              "      background-color: #3B4455;\n",
              "      fill: #D2E3FC;\n",
              "    }\n",
              "\n",
              "    [theme=dark] .colab-df-convert:hover {\n",
              "      background-color: #434B5C;\n",
              "      box-shadow: 0px 1px 3px 1px rgba(0, 0, 0, 0.15);\n",
              "      filter: drop-shadow(0px 1px 2px rgba(0, 0, 0, 0.3));\n",
              "      fill: #FFFFFF;\n",
              "    }\n",
              "  </style>\n",
              "\n",
              "      <script>\n",
              "        const buttonEl =\n",
              "          document.querySelector('#df-66cc535e-b818-4484-94c2-3975c3e68975 button.colab-df-convert');\n",
              "        buttonEl.style.display =\n",
              "          google.colab.kernel.accessAllowed ? 'block' : 'none';\n",
              "\n",
              "        async function convertToInteractive(key) {\n",
              "          const element = document.querySelector('#df-66cc535e-b818-4484-94c2-3975c3e68975');\n",
              "          const dataTable =\n",
              "            await google.colab.kernel.invokeFunction('convertToInteractive',\n",
              "                                                     [key], {});\n",
              "          if (!dataTable) return;\n",
              "\n",
              "          const docLinkHtml = 'Like what you see? Visit the ' +\n",
              "            '<a target=\"_blank\" href=https://colab.research.google.com/notebooks/data_table.ipynb>data table notebook</a>'\n",
              "            + ' to learn more about interactive tables.';\n",
              "          element.innerHTML = '';\n",
              "          dataTable['output_type'] = 'display_data';\n",
              "          await google.colab.output.renderOutput(dataTable, element);\n",
              "          const docLink = document.createElement('div');\n",
              "          docLink.innerHTML = docLinkHtml;\n",
              "          element.appendChild(docLink);\n",
              "        }\n",
              "      </script>\n",
              "    </div>\n",
              "  </div>\n",
              "  "
            ],
            "text/plain": [
              "                                                    Name  Members  Completed  \\\n",
              "0                                           Cowboy Bebop  1251960     718161   \n",
              "1                        Cowboy Bebop: Tengoku no Tobira   273145     208333   \n",
              "2                                                 Trigun   558913     343492   \n",
              "3                                     Witch Hunter Robin    94683      46165   \n",
              "4                                         Bouken Ou Beet    13224       7314   \n",
              "...                                                  ...      ...        ...   \n",
              "17547                     Kitarou Tanjou: Gegege no Nazo     1009          0   \n",
              "17548                            The Sun, Moon and Stars        1          0   \n",
              "17549  Mahoutsukai no Yome: Nishi no Shounen to Seira...    13493          4   \n",
              "17552                                SK∞: Crazy Rock Jam    10722       7207   \n",
              "17556                        Wan Jie Shen Zhu 3rd Season      125          0   \n",
              "\n",
              "      episodes_class  Completion Rate  \n",
              "0              short         0.573629  \n",
              "1        extra_short         0.762719  \n",
              "2              short         0.614571  \n",
              "3              short         0.487574  \n",
              "4               long         0.553085  \n",
              "...              ...              ...  \n",
              "17547    extra_short         0.000000  \n",
              "17548    extra_short         0.000000  \n",
              "17549    extra_short         0.000296  \n",
              "17552    extra_short         0.672169  \n",
              "17556         medium         0.000000  \n",
              "\n",
              "[17046 rows x 5 columns]"
            ]
          },
          "execution_count": 24,
          "metadata": {},
          "output_type": "execute_result"
        }
      ],
      "source": [
        "df_anime_completion[\"Completion Rate\"] = df_anime_completion[\"Completed\"] / df_anime_completion[\"Members\"]\n",
        "df_anime_completion"
      ]
    },
    {
      "cell_type": "code",
      "execution_count": 25,
      "metadata": {
        "id": "_eLcCYe1ygiG"
      },
      "outputs": [],
      "source": [
        "exshort_rate = df_anime_completion[df_anime_completion[\"episodes_class\"] == 'extra_short'][\"Completion Rate\"]\n",
        "short_rate = df_anime_completion[df_anime_completion[\"episodes_class\"] == 'short'][\"Completion Rate\"]\n",
        "med_rate = df_anime_completion[df_anime_completion[\"episodes_class\"] == 'medium'][\"Completion Rate\"]\n",
        "long_rate = df_anime_completion[df_anime_completion[\"episodes_class\"] == 'long'][\"Completion Rate\"]"
      ]
    },
    {
      "cell_type": "code",
      "execution_count": 26,
      "metadata": {
        "colab": {
          "base_uri": "https://localhost:8080/",
          "height": 500
        },
        "id": "jw1ipQrZy0OA",
        "outputId": "f38412e0-dea7-4464-ea1e-0dab8b53ed63"
      },
      "outputs": [
        {
          "name": "stderr",
          "output_type": "stream",
          "text": [
            "/usr/local/lib/python3.8/dist-packages/matplotlib/cbook/__init__.py:1376: VisibleDeprecationWarning: Creating an ndarray from ragged nested sequences (which is a list-or-tuple of lists-or-tuples-or ndarrays with different lengths or shapes) is deprecated. If you meant to do this, you must specify 'dtype=object' when creating the ndarray.\n",
            "  X = np.atleast_1d(X.T if isinstance(X, np.ndarray) else np.asarray(X))\n"
          ]
        },
        {
          "data": {
            "image/png": "[encoded data removed]",
            "text/plain": [
              "<Figure size 720x504 with 1 Axes>"
            ]
          },
          "metadata": {
            "needs_background": "light"
          },
          "output_type": "display_data"
        }
      ],
      "source": [
        "fig = plt.figure(figsize =(10, 7))\n",
        " \n",
        "# Creating axes instance\n",
        "ax = fig.add_subplot()\n",
        "data = [exshort_rate, short_rate, med_rate, long_rate]\n",
        "# Creating plot\n",
        "bp = ax.boxplot(data)\n",
        "ax.title.set_text(\"Completion rate by anime episode length\")\n",
        "ax.set_xticklabels([\"extra short\", \"short\", \"medium\", \"long\"])\n",
        "# show plot\n",
        "plt.show()"
      ]
    },
    {
      "cell_type": "code",
      "execution_count": 27,
      "metadata": {
        "colab": {
          "base_uri": "https://localhost:8080/"
        },
        "id": "jS63w_M9zcGn",
        "outputId": "4993262c-e2fc-4788-af0e-f7dc40e5ef2f"
      },
      "outputs": [
        {
          "data": {
            "text/plain": [
              "KruskalResult(statistic=1155.7820161568202, pvalue=2.8765859141291886e-250)"
            ]
          },
          "execution_count": 27,
          "metadata": {},
          "output_type": "execute_result"
        }
      ],
      "source": [
        "stats.kruskal(exshort_rate, short_rate, med_rate, long_rate)"
      ]
    },
    {
      "cell_type": "code",
      "execution_count": 28,
      "metadata": {
        "colab": {
          "base_uri": "https://localhost:8080/"
        },
        "id": "SpjrnMF_VgvN",
        "outputId": "2aa93fe4-54f1-423f-afb1-e01629ae5c56"
      },
      "outputs": [
        {
          "data": {
            "text/plain": [
              "MannwhitneyuResult(statistic=236867.5, pvalue=0.00015361241988679183)"
            ]
          },
          "execution_count": 28,
          "metadata": {},
          "output_type": "execute_result"
        }
      ],
      "source": [
        "stats.mannwhitneyu(med_rate, long_rate, alternative=\"less\")"
      ]
    }
  ],
  "metadata": {
    "colab": {
      "provenance": []
    },
    "kernelspec": {
      "display_name": "timeseries",
      "language": "python",
      "name": "python3"
    },
    "language_info": {
      "codemirror_mode": {
        "name": "ipython",
        "version": 3
      },
      "file_extension": ".py",
      "mimetype": "text/x-python",
      "name": "python",
      "nbconvert_exporter": "python",
      "pygments_lexer": "ipython3",
      "version": "3.10.8"
    },
    "vscode": {
      "interpreter": {
        "hash": "5f0513de36e05a6ccc0415be9518546a654dbc7e818c3420e786cd580b885b92"
      }
    }
  },
  "nbformat": 4,
  "nbformat_minor": 0
}
